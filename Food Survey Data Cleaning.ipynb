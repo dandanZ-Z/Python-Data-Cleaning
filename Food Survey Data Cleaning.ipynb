{
 "cells": [
  {
   "cell_type": "markdown",
   "id": "1660f9b5",
   "metadata": {},
   "source": [
    "Food Survey Data Cleaning"
   ]
  },
  {
   "cell_type": "code",
   "execution_count": 25,
   "id": "27359852",
   "metadata": {},
   "outputs": [],
   "source": [
    "import pandas as pd\n",
    "\n",
    "# Specify the file path of the CSV file\n",
    "csv_file_path = r'C:\\Users\\danie\\OneDrive\\Desktop\\food_coded.csv'"
   ]
  },
  {
   "cell_type": "code",
   "execution_count": 26,
   "id": "05f69d0f",
   "metadata": {},
   "outputs": [],
   "source": [
    "df = pd.read_csv(csv_file_path)"
   ]
  },
  {
   "cell_type": "code",
   "execution_count": 27,
   "id": "a70527a0",
   "metadata": {},
   "outputs": [
    {
     "data": {
      "text/html": [
       "<div>\n",
       "<style scoped>\n",
       "    .dataframe tbody tr th:only-of-type {\n",
       "        vertical-align: middle;\n",
       "    }\n",
       "\n",
       "    .dataframe tbody tr th {\n",
       "        vertical-align: top;\n",
       "    }\n",
       "\n",
       "    .dataframe thead th {\n",
       "        text-align: right;\n",
       "    }\n",
       "</style>\n",
       "<table border=\"1\" class=\"dataframe\">\n",
       "  <thead>\n",
       "    <tr style=\"text-align: right;\">\n",
       "      <th></th>\n",
       "      <th>GPA</th>\n",
       "      <th>Gender</th>\n",
       "      <th>breakfast</th>\n",
       "      <th>calories_chicken</th>\n",
       "      <th>calories_day</th>\n",
       "      <th>calories_scone</th>\n",
       "      <th>coffee</th>\n",
       "      <th>comfort_food</th>\n",
       "      <th>comfort_food_reasons</th>\n",
       "      <th>comfort_food_reasons_coded</th>\n",
       "      <th>...</th>\n",
       "      <th>soup</th>\n",
       "      <th>sports</th>\n",
       "      <th>thai_food</th>\n",
       "      <th>tortilla_calories</th>\n",
       "      <th>turkey_calories</th>\n",
       "      <th>type_sports</th>\n",
       "      <th>veggies_day</th>\n",
       "      <th>vitamins</th>\n",
       "      <th>waffle_calories</th>\n",
       "      <th>weight</th>\n",
       "    </tr>\n",
       "  </thead>\n",
       "  <tbody>\n",
       "    <tr>\n",
       "      <th>0</th>\n",
       "      <td>2.4</td>\n",
       "      <td>2</td>\n",
       "      <td>1</td>\n",
       "      <td>430</td>\n",
       "      <td>NaN</td>\n",
       "      <td>315.0</td>\n",
       "      <td>1</td>\n",
       "      <td>none</td>\n",
       "      <td>we dont have comfort</td>\n",
       "      <td>9.0</td>\n",
       "      <td>...</td>\n",
       "      <td>1.0</td>\n",
       "      <td>1.0</td>\n",
       "      <td>1</td>\n",
       "      <td>1165.0</td>\n",
       "      <td>345</td>\n",
       "      <td>car racing</td>\n",
       "      <td>5</td>\n",
       "      <td>1</td>\n",
       "      <td>1315</td>\n",
       "      <td>187</td>\n",
       "    </tr>\n",
       "    <tr>\n",
       "      <th>1</th>\n",
       "      <td>3.654</td>\n",
       "      <td>1</td>\n",
       "      <td>1</td>\n",
       "      <td>610</td>\n",
       "      <td>3.0</td>\n",
       "      <td>420.0</td>\n",
       "      <td>2</td>\n",
       "      <td>chocolate, chips, ice cream</td>\n",
       "      <td>Stress, bored, anger</td>\n",
       "      <td>1.0</td>\n",
       "      <td>...</td>\n",
       "      <td>1.0</td>\n",
       "      <td>1.0</td>\n",
       "      <td>2</td>\n",
       "      <td>725.0</td>\n",
       "      <td>690</td>\n",
       "      <td>Basketball</td>\n",
       "      <td>4</td>\n",
       "      <td>2</td>\n",
       "      <td>900</td>\n",
       "      <td>155</td>\n",
       "    </tr>\n",
       "    <tr>\n",
       "      <th>2</th>\n",
       "      <td>3.3</td>\n",
       "      <td>1</td>\n",
       "      <td>1</td>\n",
       "      <td>720</td>\n",
       "      <td>4.0</td>\n",
       "      <td>420.0</td>\n",
       "      <td>2</td>\n",
       "      <td>frozen yogurt, pizza, fast food</td>\n",
       "      <td>stress, sadness</td>\n",
       "      <td>1.0</td>\n",
       "      <td>...</td>\n",
       "      <td>1.0</td>\n",
       "      <td>2.0</td>\n",
       "      <td>5</td>\n",
       "      <td>1165.0</td>\n",
       "      <td>500</td>\n",
       "      <td>none</td>\n",
       "      <td>5</td>\n",
       "      <td>1</td>\n",
       "      <td>900</td>\n",
       "      <td>I'm not answering this.</td>\n",
       "    </tr>\n",
       "    <tr>\n",
       "      <th>3</th>\n",
       "      <td>3.2</td>\n",
       "      <td>1</td>\n",
       "      <td>1</td>\n",
       "      <td>430</td>\n",
       "      <td>3.0</td>\n",
       "      <td>420.0</td>\n",
       "      <td>2</td>\n",
       "      <td>Pizza, Mac and cheese, ice cream</td>\n",
       "      <td>Boredom</td>\n",
       "      <td>2.0</td>\n",
       "      <td>...</td>\n",
       "      <td>1.0</td>\n",
       "      <td>2.0</td>\n",
       "      <td>5</td>\n",
       "      <td>725.0</td>\n",
       "      <td>690</td>\n",
       "      <td>NaN</td>\n",
       "      <td>3</td>\n",
       "      <td>1</td>\n",
       "      <td>1315</td>\n",
       "      <td>Not sure, 240</td>\n",
       "    </tr>\n",
       "    <tr>\n",
       "      <th>4</th>\n",
       "      <td>3.5</td>\n",
       "      <td>1</td>\n",
       "      <td>1</td>\n",
       "      <td>720</td>\n",
       "      <td>2.0</td>\n",
       "      <td>420.0</td>\n",
       "      <td>2</td>\n",
       "      <td>Ice cream, chocolate, chips</td>\n",
       "      <td>Stress, boredom, cravings</td>\n",
       "      <td>1.0</td>\n",
       "      <td>...</td>\n",
       "      <td>1.0</td>\n",
       "      <td>1.0</td>\n",
       "      <td>4</td>\n",
       "      <td>940.0</td>\n",
       "      <td>500</td>\n",
       "      <td>Softball</td>\n",
       "      <td>4</td>\n",
       "      <td>2</td>\n",
       "      <td>760</td>\n",
       "      <td>190</td>\n",
       "    </tr>\n",
       "  </tbody>\n",
       "</table>\n",
       "<p>5 rows × 60 columns</p>\n",
       "</div>"
      ],
      "text/plain": [
       "     GPA  Gender  breakfast  calories_chicken  calories_day  calories_scone  \\\n",
       "0    2.4       2          1               430           NaN           315.0   \n",
       "1  3.654       1          1               610           3.0           420.0   \n",
       "2    3.3       1          1               720           4.0           420.0   \n",
       "3    3.2       1          1               430           3.0           420.0   \n",
       "4    3.5       1          1               720           2.0           420.0   \n",
       "\n",
       "   coffee                      comfort_food        comfort_food_reasons  \\\n",
       "0       1                              none       we dont have comfort    \n",
       "1       2       chocolate, chips, ice cream        Stress, bored, anger   \n",
       "2       2   frozen yogurt, pizza, fast food             stress, sadness   \n",
       "3       2  Pizza, Mac and cheese, ice cream                     Boredom   \n",
       "4       2      Ice cream, chocolate, chips   Stress, boredom, cravings    \n",
       "\n",
       "   comfort_food_reasons_coded  ...  soup  sports thai_food  tortilla_calories  \\\n",
       "0                         9.0  ...   1.0     1.0         1             1165.0   \n",
       "1                         1.0  ...   1.0     1.0         2              725.0   \n",
       "2                         1.0  ...   1.0     2.0         5             1165.0   \n",
       "3                         2.0  ...   1.0     2.0         5              725.0   \n",
       "4                         1.0  ...   1.0     1.0         4              940.0   \n",
       "\n",
       "   turkey_calories  type_sports  veggies_day  vitamins  waffle_calories  \\\n",
       "0              345   car racing            5         1             1315   \n",
       "1              690  Basketball             4         2              900   \n",
       "2              500         none            5         1              900   \n",
       "3              690          NaN            3         1             1315   \n",
       "4              500     Softball            4         2              760   \n",
       "\n",
       "                     weight  \n",
       "0                       187  \n",
       "1                       155  \n",
       "2  I'm not answering this.   \n",
       "3             Not sure, 240  \n",
       "4                       190  \n",
       "\n",
       "[5 rows x 60 columns]"
      ]
     },
     "execution_count": 27,
     "metadata": {},
     "output_type": "execute_result"
    }
   ],
   "source": [
    "df.head()"
   ]
  },
  {
   "cell_type": "code",
   "execution_count": 28,
   "id": "b23d2f05",
   "metadata": {},
   "outputs": [
    {
     "name": "stdout",
     "output_type": "stream",
     "text": [
      "GPA 2\n",
      "calories_day 19\n",
      "calories_scone 1\n",
      "comfort_food 1\n",
      "comfort_food_reasons 1\n",
      "comfort_food_reasons_coded 19\n",
      "cook 3\n",
      "cuisine 17\n",
      "diet_current 1\n",
      "drink 2\n",
      "eating_changes 3\n",
      "employment 9\n",
      "exercise 13\n",
      "father_education 1\n",
      "father_profession 3\n",
      "fav_cuisine 2\n",
      "fav_food 2\n",
      "food_childhood 1\n",
      "healthy_meal 1\n",
      "ideal_diet 1\n",
      "income 1\n",
      "life_rewarding 1\n",
      "marital_status 1\n",
      "meals_dinner_friend 3\n",
      "mother_education 3\n",
      "mother_profession 2\n",
      "on_off_campus 1\n",
      "persian_food 1\n",
      "self_perception_weight 1\n",
      "soup 1\n",
      "sports 2\n",
      "tortilla_calories 1\n",
      "type_sports 21\n",
      "weight 2\n"
     ]
    }
   ],
   "source": [
    "# Find columns with missing values and how many values are missing\n",
    "cols_miss_count = [col for col in df.columns\n",
    "                     if df[col].isnull().any()]\n",
    "for i in cols_miss_count:\n",
    "    print(i,df[i].isnull().sum())"
   ]
  },
  {
   "cell_type": "code",
   "execution_count": 29,
   "id": "fb5bf978",
   "metadata": {},
   "outputs": [],
   "source": [
    "# This command fills in the null values with the mean for columns containing numbers only\n",
    "numeric_columns = df.select_dtypes(include='number').columns\n",
    "\n",
    "df.loc[:, numeric_columns] = df.loc[:, numeric_columns].fillna(df.loc[:, numeric_columns].mean())"
   ]
  },
  {
   "cell_type": "code",
   "execution_count": 30,
   "id": "824ed4cd",
   "metadata": {},
   "outputs": [],
   "source": [
    "# Remove rows with missing values\n",
    "for i in cols_miss_count:\n",
    "    df.dropna(subset=[i], inplace=True)"
   ]
  },
  {
   "cell_type": "code",
   "execution_count": 31,
   "id": "376debe4",
   "metadata": {},
   "outputs": [
    {
     "data": {
      "text/plain": [
       "3.5           11\n",
       "3             10\n",
       "3.7           10\n",
       "3.3            9\n",
       "3.2            7\n",
       "3.8            6\n",
       "3.4            6\n",
       "3.6            5\n",
       "2.8            4\n",
       "3.9            4\n",
       "4              2\n",
       "3.1            2\n",
       "3.83           2\n",
       "3.68           1\n",
       "3.75           1\n",
       "2.6            1\n",
       "2.4            1\n",
       "3.92           1\n",
       "3.73           1\n",
       "Unknown        1\n",
       "3.77           1\n",
       "3.63           1\n",
       "3.79 bitch     1\n",
       "3.65           1\n",
       "3.67           1\n",
       "3.35           1\n",
       "3.605          1\n",
       "3.89           1\n",
       "3.654          1\n",
       "3.87           1\n",
       "2.2            1\n",
       "3.904          1\n",
       "2.25           1\n",
       "3.882          1\n",
       "Name: GPA, dtype: int64"
      ]
     },
     "execution_count": 31,
     "metadata": {},
     "output_type": "execute_result"
    }
   ],
   "source": [
    "# GPA column is not pure numbers\n",
    "df['GPA'].value_counts()"
   ]
  },
  {
   "cell_type": "code",
   "execution_count": 32,
   "id": "1412b5cb",
   "metadata": {},
   "outputs": [
    {
     "data": {
      "text/plain": [
       "Index(['Gender', 'breakfast', 'calories_chicken', 'calories_day',\n",
       "       'calories_scone', 'coffee', 'comfort_food_reasons_coded', 'cook',\n",
       "       'cuisine', 'diet_current_coded', 'drink', 'eating_changes_coded',\n",
       "       'eating_changes_coded1', 'eating_out', 'employment', 'ethnic_food',\n",
       "       'exercise', 'father_education', 'fav_cuisine_coded', 'fav_food',\n",
       "       'fries', 'fruit_day', 'grade_level', 'greek_food', 'healthy_feeling',\n",
       "       'ideal_diet_coded', 'income', 'indian_food', 'italian_food',\n",
       "       'life_rewarding', 'marital_status', 'mother_education',\n",
       "       'nutritional_check', 'on_off_campus', 'parents_cook', 'pay_meal_out',\n",
       "       'persian_food', 'self_perception_weight', 'soup', 'sports', 'thai_food',\n",
       "       'tortilla_calories', 'turkey_calories', 'veggies_day', 'vitamins',\n",
       "       'waffle_calories'],\n",
       "      dtype='object')"
      ]
     },
     "execution_count": 32,
     "metadata": {},
     "output_type": "execute_result"
    }
   ],
   "source": [
    "numeric_columns"
   ]
  },
  {
   "cell_type": "code",
   "execution_count": 33,
   "id": "b4b1af37",
   "metadata": {},
   "outputs": [],
   "source": [
    "# We will check and clean each column to prepare it for data analysis (make sure int type as well)"
   ]
  },
  {
   "cell_type": "code",
   "execution_count": 34,
   "id": "1980fec4",
   "metadata": {},
   "outputs": [
    {
     "data": {
      "text/plain": [
       "3.5           11\n",
       "3             10\n",
       "3.7           10\n",
       "3.3            9\n",
       "3.2            7\n",
       "3.8            6\n",
       "3.4            6\n",
       "3.6            5\n",
       "2.8            4\n",
       "3.9            4\n",
       "4              2\n",
       "3.1            2\n",
       "3.83           2\n",
       "3.68           1\n",
       "3.75           1\n",
       "2.6            1\n",
       "2.4            1\n",
       "3.92           1\n",
       "3.73           1\n",
       "Unknown        1\n",
       "3.77           1\n",
       "3.63           1\n",
       "3.79 bitch     1\n",
       "3.65           1\n",
       "3.67           1\n",
       "3.35           1\n",
       "3.605          1\n",
       "3.89           1\n",
       "3.654          1\n",
       "3.87           1\n",
       "2.2            1\n",
       "3.904          1\n",
       "2.25           1\n",
       "3.882          1\n",
       "Name: GPA, dtype: int64"
      ]
     },
     "execution_count": 34,
     "metadata": {},
     "output_type": "execute_result"
    }
   ],
   "source": [
    "df['GPA'].value_counts()"
   ]
  },
  {
   "cell_type": "code",
   "execution_count": 35,
   "id": "ab3f5228",
   "metadata": {},
   "outputs": [
    {
     "name": "stderr",
     "output_type": "stream",
     "text": [
      "C:\\Users\\danie\\AppData\\Local\\Temp\\ipykernel_27228\\2449642085.py:2: FutureWarning: The default value of regex will change from True to False in a future version. In addition, single character regular expressions will *not* be treated as literal strings when regex=True.\n",
      "  df['GPA_new'] = df['GPA'].str.replace(\".\",\"\")\n"
     ]
    }
   ],
   "source": [
    "df.dropna(subset=['GPA'],inplace=True)\n",
    "df['GPA_new'] = df['GPA'].str.replace(\".\",\"\")\n",
    "df = df[~df['GPA_new'].str.isdigit() == False]\n",
    "df['GPA'] = df['GPA'].astype(float)\n",
    "df.drop('GPA_new',axis=1,inplace=True)"
   ]
  },
  {
   "cell_type": "code",
   "execution_count": 22,
   "id": "00b72ebd",
   "metadata": {},
   "outputs": [
    {
     "data": {
      "text/plain": [
       "3.500    11\n",
       "3.700    10\n",
       "3.000    10\n",
       "3.300     9\n",
       "3.200     7\n",
       "3.800     6\n",
       "3.400     6\n",
       "3.600     5\n",
       "2.800     4\n",
       "3.900     4\n",
       "4.000     2\n",
       "3.830     2\n",
       "3.100     2\n",
       "3.350     1\n",
       "3.920     1\n",
       "3.770     1\n",
       "3.680     1\n",
       "2.600     1\n",
       "3.730     1\n",
       "3.630     1\n",
       "3.670     1\n",
       "3.750     1\n",
       "2.400     1\n",
       "3.605     1\n",
       "3.890     1\n",
       "3.650     1\n",
       "3.654     1\n",
       "3.870     1\n",
       "2.200     1\n",
       "3.904     1\n",
       "2.250     1\n",
       "3.882     1\n",
       "Name: GPA, dtype: int64"
      ]
     },
     "execution_count": 22,
     "metadata": {},
     "output_type": "execute_result"
    }
   ],
   "source": [
    "df['GPA'].value_counts()"
   ]
  },
  {
   "cell_type": "code",
   "execution_count": 75,
   "id": "ab0564d6",
   "metadata": {},
   "outputs": [
    {
     "name": "stdout",
     "output_type": "stream",
     "text": [
      "Value counts for column GPA:\n",
      "3.500    11\n",
      "3.700    10\n",
      "3.000    10\n",
      "3.300     9\n",
      "3.200     7\n",
      "3.800     6\n",
      "3.400     6\n",
      "3.600     5\n",
      "2.800     4\n",
      "3.900     4\n",
      "4.000     2\n",
      "3.830     2\n",
      "3.100     2\n",
      "3.350     1\n",
      "3.920     1\n",
      "3.770     1\n",
      "3.680     1\n",
      "2.600     1\n",
      "3.730     1\n",
      "3.630     1\n",
      "3.670     1\n",
      "3.750     1\n",
      "2.400     1\n",
      "3.605     1\n",
      "3.890     1\n",
      "3.650     1\n",
      "3.654     1\n",
      "3.870     1\n",
      "2.200     1\n",
      "3.904     1\n",
      "2.250     1\n",
      "3.882     1\n",
      "Name: GPA, dtype: int64\n",
      "\n",
      "Value counts for column Gender:\n",
      "1    61\n",
      "2    36\n",
      "Name: Gender, dtype: int64\n",
      "\n",
      "Value counts for column breakfast:\n",
      "1    87\n",
      "2    10\n",
      "Name: breakfast, dtype: int64\n",
      "\n",
      "Value counts for column calories_chicken:\n",
      "610    49\n",
      "720    22\n",
      "430    21\n",
      "265     5\n",
      "Name: calories_chicken, dtype: int64\n",
      "\n",
      "Value counts for column calories_day:\n",
      "3.000000    53\n",
      "4.000000    16\n",
      "3.028302    14\n",
      "2.000000    14\n",
      "Name: calories_day, dtype: int64\n",
      "\n",
      "Value counts for column calories_scone:\n",
      "420.000000    62\n",
      "315.000000    19\n",
      "980.000000    15\n",
      "505.241935     1\n",
      "Name: calories_scone, dtype: int64\n",
      "\n",
      "Value counts for column coffee:\n",
      "2    70\n",
      "1    27\n",
      "Name: coffee, dtype: int64\n",
      "\n",
      "Value counts for column comfort_food:\n",
      "none                                                       1\n",
      "ice cream, cookies, ice cream                              1\n",
      "chips, ice cream, fruit snacks                             1\n",
      "carrots, plantain chips, almonds, popcorn                  1\n",
      "pizza, pasta, mac and cheese                               1\n",
      "                                                          ..\n",
      "chocolate, popcorn, ice cream                              1\n",
      "chocolate, chips, candy                                    1\n",
      "pizza, doughnuts, mcdonalds                                1\n",
      "mac n cheese, peanut butter and banana sandwich, omelet    1\n",
      "rice, potato, seaweed soup                                 1\n",
      "Name: comfort_food, Length: 97, dtype: int64\n",
      "\n",
      "Value counts for column comfort_food_reasons:\n",
      "boredom                                              5\n",
      "Boredom                                              3\n",
      "boredom, sadness                                     2\n",
      "stress, boredom                                      2\n",
      "Stress and boredom                                   2\n",
      "                                                    ..\n",
      "All of the above; sadness, boredom and confusion     1\n",
      "Usually if I'm sad or depressed.                     1\n",
      "No reasons                                           1\n",
      "boredom, stress                                      1\n",
      "Loneliness / Homesick / Sadness                      1\n",
      "Name: comfort_food_reasons, Length: 85, dtype: int64\n",
      "\n",
      "Value counts for column comfort_food_reasons_coded:\n",
      "2.000000    36\n",
      "1.000000    19\n",
      "3.000000    15\n",
      "2.698113    15\n",
      "9.000000     3\n",
      "5.000000     3\n",
      "4.000000     2\n",
      "7.000000     2\n",
      "6.000000     1\n",
      "8.000000     1\n",
      "Name: comfort_food_reasons_coded, dtype: int64\n",
      "\n",
      "Value counts for column cook:\n",
      "3.000000    40\n",
      "2.000000    27\n",
      "4.000000    12\n",
      "1.000000    11\n",
      "5.000000     6\n",
      "2.786885     1\n",
      "Name: cook, dtype: int64\n",
      "\n",
      "Value counts for column cuisine:\n",
      "1.000000    69\n",
      "1.388889    12\n",
      "2.000000     9\n",
      "3.000000     2\n",
      "6.000000     2\n",
      "4.000000     2\n",
      "5.000000     1\n",
      "Name: cuisine, dtype: int64\n",
      "\n",
      "Value counts for column diet_current:\n",
      "eat good and exercise                                                                                                               1\n",
      "I try to eat as healthy as possible. 3 meals a day that are well-balanced.                                                          1\n",
      "I used to eat whatever but since i've come to college i try to eat fruits and vegetables everyday. I also avoid fried foods.        1\n",
      "i currently eat a lot of salad, but do not eat 3 times a day nor eat breakfast                                                      1\n",
      "I try to eat healthy but sometimes drink soda pop and I enjoy desserts. harder to eat healthy when I am at school.                  1\n",
      "                                                                                                                                   ..\n",
      "I eat three meals per day usually. I eat a lot of sandwiches and fruit.                                                             1\n",
      "I do not get to eat as well as I did.  I wish I ate better, but in college it is hard because of money.                             1\n",
      "I eat out more often then not. I try to make sure when I eat out it isn't fast food, but instead something healthy like Panera.     1\n",
      "A lot of rice and veggies, eggs for breakfast, chicken is usually the only kind of meat I eat.                                      1\n",
      "Rice, oatmeal, and tea                                                                                                              1\n",
      "Name: diet_current, Length: 97, dtype: int64\n",
      "\n",
      "Value counts for column diet_current_coded:\n",
      "2    46\n",
      "1    39\n",
      "3    10\n",
      "4     2\n",
      "Name: diet_current_coded, dtype: int64\n",
      "\n",
      "Value counts for column drink:\n",
      "2.000000    51\n",
      "1.000000    45\n",
      "1.560976     1\n",
      "Name: drink, dtype: int64\n",
      "\n",
      "Value counts for column eating_changes:\n",
      "eat faster                                                                                                         1\n",
      "As an athlete it is important to fuel my body with important foods only.                                           1\n",
      "i eat healthier all around                                                                                         1\n",
      "I have been eating healthier especially vegetables and proteinous food                                             1\n",
      "less healthy because of less options, money and time.                                                              1\n",
      "                                                                                                                  ..\n",
      "I have eaten bigger meals.                                                                                         1\n",
      "I do not eat as many home cooked meals.                                                                            1\n",
      "I do not snack as often at school. I find that I'm always busy so sometimes I don't have a lot of time to eat.     1\n",
      "My diet is more limited just because of what I have time to make                                                   1\n",
      "less rice                                                                                                          1\n",
      "Name: eating_changes, Length: 97, dtype: int64\n",
      "\n",
      "Value counts for column eating_changes_coded:\n",
      "1    61\n",
      "2    26\n",
      "3     7\n",
      "4     3\n",
      "Name: eating_changes_coded, dtype: int64\n",
      "\n",
      "Value counts for column eating_changes_coded1:\n",
      "3     35\n",
      "5     23\n",
      "2     13\n",
      "4      8\n",
      "8      4\n",
      "11     4\n",
      "10     3\n",
      "7      2\n",
      "1      1\n",
      "6      1\n",
      "9      1\n",
      "13     1\n",
      "12     1\n",
      "Name: eating_changes_coded1, dtype: int64\n",
      "\n",
      "Value counts for column eating_out:\n",
      "2    49\n",
      "3    19\n",
      "1    11\n",
      "5    10\n",
      "4     8\n",
      "Name: eating_out, dtype: int64\n",
      "\n",
      "Value counts for column employment:\n",
      "2.000000    44\n",
      "3.000000    43\n",
      "2.448276     8\n",
      "1.000000     2\n",
      "Name: employment, dtype: int64\n",
      "\n",
      "Value counts for column ethnic_food:\n",
      "5    33\n",
      "4    29\n",
      "3    18\n",
      "2    13\n",
      "1     4\n",
      "Name: ethnic_food, dtype: int64\n",
      "\n",
      "Value counts for column exercise:\n",
      "1.000000    47\n",
      "2.000000    34\n",
      "1.589286     9\n",
      "3.000000     7\n",
      "Name: exercise, dtype: int64\n",
      "\n",
      "Value counts for column father_education:\n",
      "4.0    38\n",
      "2.0    26\n",
      "5.0    21\n",
      "3.0    10\n",
      "1.0     2\n",
      "Name: father_education, dtype: int64\n",
      "\n",
      "Value counts for column father_profession:\n",
      "Dentist                         2\n",
      "IT                              2\n",
      "business owner                  2\n",
      "Teacher                         2\n",
      "Dentist                         1\n",
      "                               ..\n",
      "Corporate Manager               1\n",
      "Biohemical Waste Elimination    1\n",
      "Construction                    1\n",
      "Optometrist                     1\n",
      "CEO of company                  1\n",
      "Name: father_profession, Length: 93, dtype: int64\n",
      "\n",
      "Value counts for column fav_cuisine:\n",
      "Italian                                     16\n",
      "Italian                                     14\n",
      "italian                                      6\n",
      "Mexican                                      4\n",
      "American                                     3\n",
      "Chinese                                      3\n",
      "Mexican                                      2\n",
      "American                                     2\n",
      "Chinese                                      2\n",
      "italian                                      2\n",
      "Indian                                       2\n",
      "Asian                                        2\n",
      "Korean                                       2\n",
      "Thai                                         2\n",
      "Indian food                                  1\n",
      "Authentic Chinese and Vietnamese food        1\n",
      "Any type of Colombian cuisine                1\n",
      "Mexican cuisine                              1\n",
      "Asian                                        1\n",
      "Chinese food                                 1\n",
      "Vietnamese cuisine                           1\n",
      "mac and cheese                               1\n",
      "italian and chinese                          1\n",
      "Nepali                                       1\n",
      "I do not like cuisine                        1\n",
      "Barbecue                                     1\n",
      "lebanese or greek                            1\n",
      "Japanese                                     1\n",
      "I really love italian food and thai food     1\n",
      "Arabic cuisine                               1\n",
      "Thai food                                    1\n",
      "american                                     1\n",
      "Chinese cuisine (General Tso's)              1\n",
      "African                                      1\n",
      "Anything american style.                     1\n",
      "Seafood                                      1\n",
      "Orange chicken and chow mani noodles         1\n",
      "American or Italian                          1\n",
      "Chicken                                      1\n",
      "don't have one                               1\n",
      "Italian food                                 1\n",
      "French                                       1\n",
      "American or Italian                          1\n",
      "Italian or Chinese                           1\n",
      "chinese                                      1\n",
      "Greek                                        1\n",
      "All                                          1\n",
      "Wraps                                        1\n",
      "Mexican Food                                 1\n",
      "Name: fav_cuisine, dtype: int64\n",
      "\n",
      "Value counts for column fav_cuisine_coded:\n",
      "1    46\n",
      "4    21\n",
      "5    13\n",
      "2     9\n",
      "8     3\n",
      "0     3\n",
      "3     1\n",
      "6     1\n",
      "Name: fav_cuisine_coded, dtype: int64\n",
      "\n",
      "Value counts for column fav_food:\n",
      "1.000000    59\n",
      "3.000000    31\n",
      "2.000000     6\n",
      "1.715447     1\n",
      "Name: fav_food, dtype: int64\n",
      "\n",
      "Value counts for column food_childhood:\n",
      "Pizza                                       2\n",
      "Steak                                       2\n",
      "Mac and cheese                              2\n",
      "Spaghetti                                   2\n",
      "Chicken                                     2\n",
      "                                           ..\n",
      "Mac and Cheese, Hot Dogs, Grilled Cheese    1\n",
      "pickles, chinese food, pizza                1\n",
      "pizza, ice cream. pop tarts                 1\n",
      "Chicken and steak                           1\n",
      "Rice and potato                             1\n",
      "Name: food_childhood, Length: 91, dtype: int64\n",
      "\n",
      "Value counts for column fries:\n",
      "1    88\n",
      "2     9\n",
      "Name: fries, dtype: int64\n",
      "\n",
      "Value counts for column fruit_day:\n",
      "5    52\n",
      "4    25\n",
      "3    15\n",
      "2     4\n",
      "1     1\n",
      "Name: fruit_day, dtype: int64\n",
      "\n",
      "Value counts for column grade_level:\n",
      "1    28\n",
      "2    27\n",
      "4    22\n",
      "3    20\n",
      "Name: grade_level, dtype: int64\n",
      "\n",
      "Value counts for column greek_food:\n",
      "5    32\n",
      "3    26\n",
      "4    20\n",
      "1    11\n",
      "2     8\n",
      "Name: greek_food, dtype: int64\n",
      "\n",
      "Value counts for column healthy_feeling:\n",
      "8     14\n",
      "5     13\n",
      "3     12\n",
      "2     11\n",
      "4     11\n",
      "7     10\n",
      "9      9\n",
      "6      8\n",
      "1      5\n",
      "10     4\n",
      "Name: healthy_feeling, dtype: int64\n",
      "\n",
      "Value counts for column healthy_meal:\n",
      "looks not oily                                                                                   1\n",
      "high protein, low fat, low carbs and sugar                                                       1\n",
      "half a plate of protein, quarter of a plate of carbs and the other quarter fruits or veggies.    1\n",
      "Healthy meal for me is a food rich in protein, fiber, some sort of carbohydrates                 1\n",
      "lots of variety and veggies                                                                      1\n",
      "                                                                                                ..\n",
      "a lean protein plus the addition of 2-3 fruits and vegetables                                    1\n",
      "A protein, starch, veg, and a healthier dessert.                                                 1\n",
      "a meal with a meat, vegetable, grain, and fruit                                                  1\n",
      "Some kind of protein, a vegetable, and a grain                                                   1\n",
      "lots of vegetables                                                                               1\n",
      "Name: healthy_meal, Length: 97, dtype: int64\n",
      "\n",
      "Value counts for column ideal_diet:\n",
      "being healthy                                                                                                                 1\n",
      "High protein, low fat                                                                                                         1\n",
      "My ideal diet would be no processed food or fried food. Also, very low in excess carbs and high in protein.                   1\n",
      "it would be a vegetarian diet without any red meat                                                                            1\n",
      "Eating healthy with lots of water and natural foods.                                                                          1\n",
      "                                                                                                                             ..\n",
      "My ideal diet would be eating multiple fruits and vegetables at each meal. Also I would only eat lean protein if possible.    1\n",
      "I would like to get all of the food groups in each day.                                                                       1\n",
      "I wish I had the time and energy to cook more at home on my own.                                                              1\n",
      "Pretty much what I eat now                                                                                                    1\n",
      "lots of veggies                                                                                                               1\n",
      "Name: ideal_diet, Length: 97, dtype: int64\n",
      "\n",
      "Value counts for column ideal_diet_coded:\n",
      "2    32\n",
      "5    15\n",
      "3    12\n",
      "7    12\n",
      "6    10\n",
      "1    10\n",
      "4     4\n",
      "8     2\n",
      "Name: ideal_diet_coded, dtype: int64\n",
      "\n",
      "Value counts for column income:\n",
      "6.0    37\n",
      "5.0    22\n",
      "4.0    15\n",
      "3.0    13\n",
      "2.0     6\n",
      "1.0     4\n",
      "Name: income, dtype: int64\n",
      "\n",
      "Value counts for column indian_food:\n",
      "5    29\n",
      "3    25\n",
      "1    18\n",
      "2    13\n",
      "4    12\n",
      "Name: indian_food, dtype: int64\n",
      "\n",
      "Value counts for column italian_food:\n",
      "5    80\n",
      "4    13\n",
      "3     4\n",
      "Name: italian_food, dtype: int64\n",
      "\n",
      "Value counts for column life_rewarding:\n",
      "1.0     18\n",
      "8.0     14\n",
      "7.0     11\n",
      "3.0     11\n",
      "2.0     10\n",
      "9.0      9\n",
      "10.0     8\n",
      "5.0      8\n",
      "4.0      5\n",
      "6.0      3\n",
      "Name: life_rewarding, dtype: int64\n",
      "\n",
      "Value counts for column marital_status:\n",
      "2.0    50\n",
      "1.0    46\n",
      "1.5     1\n",
      "Name: marital_status, dtype: int64\n",
      "\n",
      "Value counts for column meals_dinner_friend:\n",
      "Chicken, Steak, Pasta                                     2\n",
      "1. pasta 2. spaghetti 3. chicken and rice                 1\n",
      "Pasta, chicken, pizza                                     1\n",
      "any Chinese food, pasta, burgers                          1\n",
      "Rice with vegetables, chicken with pasta, salad           1\n",
      "                                                         ..\n",
      "Chicken Parmesan, Orange Chicken, Tacos                   1\n",
      "Pasta, Pizza, Chicken                                     1\n",
      "spaghetti or pasta, shrimp fried rice, chicken            1\n",
      "Some kind of pasta, a chicken dish, some kind of salad    1\n",
      "meat, rice, kimchi                                        1\n",
      "Name: meals_dinner_friend, Length: 96, dtype: int64\n",
      "\n",
      "Value counts for column mother_education:\n",
      "4.00000    36\n",
      "2.00000    25\n",
      "5.00000    17\n",
      "3.00000    14\n",
      "1.00000     4\n",
      "3.42623     1\n",
      "Name: mother_education, dtype: int64\n",
      "\n",
      "Value counts for column mother_profession:\n",
      "Teacher                   3\n",
      "Nurse                     2\n",
      "Homemaker                 2\n",
      "Banker                    2\n",
      "unemployed                1\n",
      "                         ..\n",
      "Head of Human Resouces    1\n",
      "Homemaker                 1\n",
      "Works in retail           1\n",
      "stylist                   1\n",
      "Real Estate manageer      1\n",
      "Name: mother_profession, Length: 92, dtype: int64\n",
      "\n",
      "Value counts for column nutritional_check:\n",
      "2    31\n",
      "4    30\n",
      "3    20\n",
      "5    10\n",
      "1     6\n",
      "Name: nutritional_check, dtype: int64\n",
      "\n",
      "Value counts for column on_off_campus:\n",
      "1.000000    76\n",
      "2.000000    15\n",
      "3.000000     3\n",
      "4.000000     2\n",
      "1.322581     1\n",
      "Name: on_off_campus, dtype: int64\n",
      "\n",
      "Value counts for column parents_cook:\n",
      "1    58\n",
      "2    29\n",
      "3     9\n",
      "5     1\n",
      "Name: parents_cook, dtype: int64\n",
      "\n",
      "Value counts for column pay_meal_out:\n",
      "3    52\n",
      "4    17\n",
      "2    12\n",
      "5     9\n",
      "6     7\n",
      "Name: pay_meal_out, dtype: int64\n",
      "\n",
      "Value counts for column persian_food:\n",
      "3.000000    25\n",
      "1.000000    23\n",
      "5.000000    17\n",
      "2.000000    17\n",
      "4.000000    14\n",
      "2.806452     1\n",
      "Name: persian_food, dtype: int64\n",
      "\n",
      "Value counts for column self_perception_weight:\n",
      "3.000000    30\n",
      "4.000000    28\n",
      "2.000000    25\n",
      "1.000000     6\n",
      "6.000000     4\n",
      "5.000000     3\n",
      "3.120968     1\n",
      "Name: self_perception_weight, dtype: int64\n",
      "\n",
      "Value counts for column soup:\n",
      "1.0    75\n",
      "2.0    22\n",
      "Name: soup, dtype: int64\n",
      "\n",
      "Value counts for column sports:\n",
      "1.000000    69\n",
      "2.000000    26\n",
      "1.390244     2\n",
      "Name: sports, dtype: int64\n",
      "\n",
      "Value counts for column thai_food:\n",
      "5    30\n",
      "4    21\n",
      "3    21\n",
      "2    13\n",
      "1    12\n",
      "Name: thai_food, dtype: int64\n",
      "\n",
      "Value counts for column tortilla_calories:\n",
      "1165.000000    36\n",
      "940.000000     34\n",
      "725.000000     17\n",
      "580.000000      9\n",
      "947.580645      1\n",
      "Name: tortilla_calories, dtype: int64\n",
      "\n",
      "Value counts for column turkey_calories:\n",
      "500    36\n",
      "690    34\n",
      "345    19\n",
      "850     8\n",
      "Name: turkey_calories, dtype: int64\n",
      "\n",
      "Value counts for column type_sports:\n",
      "none                       8\n",
      "Hockey                     6\n",
      "None                       5\n",
      "softball                   4\n",
      "Softball                   3\n",
      "                          ..\n",
      "skiing                     1\n",
      "Water polo and running     1\n",
      "Ice Hockey                 1\n",
      "tennis                     1\n",
      "basketball                 1\n",
      "Name: type_sports, Length: 62, dtype: int64\n",
      "\n",
      "Value counts for column veggies_day:\n",
      "5    41\n",
      "4    30\n",
      "3    15\n",
      "2     9\n",
      "1     2\n",
      "Name: veggies_day, dtype: int64\n",
      "\n",
      "Value counts for column vitamins:\n",
      "2    53\n",
      "1    44\n",
      "Name: vitamins, dtype: int64\n",
      "\n",
      "Value counts for column waffle_calories:\n",
      "1315    46\n",
      "900     33\n",
      "760     16\n",
      "575      2\n",
      "Name: waffle_calories, dtype: int64\n",
      "\n",
      "Value counts for column weight:\n",
      "150                         7\n",
      "140                         7\n",
      "185                         6\n",
      "170                         6\n",
      "190                         5\n",
      "155                         5\n",
      "175                         5\n",
      "125                         5\n",
      "165                         4\n",
      "135                         4\n",
      "200                         3\n",
      "145                         3\n",
      "180                         3\n",
      "130                         3\n",
      "120                         2\n",
      "113                         2\n",
      "160                         2\n",
      "210                         2\n",
      "127                         1\n",
      "129                         1\n",
      "128                         1\n",
      "184                         1\n",
      "138                         1\n",
      "144 lbs                     1\n",
      "112                         1\n",
      "260                         1\n",
      "167                         1\n",
      "187                         1\n",
      "192                         1\n",
      "168                         1\n",
      "100                         1\n",
      "205                         1\n",
      "105                         1\n",
      "195                         1\n",
      "123                         1\n",
      "264                         1\n",
      "110                         1\n",
      "116                         1\n",
      "137                         1\n",
      "I'm not answering this.     1\n",
      "156                         1\n",
      "Name: weight, dtype: int64\n",
      "\n"
     ]
    }
   ],
   "source": [
    "# Can use a for loop to check each column OR check 1 by 1\n",
    "for column in df.columns:\n",
    "    value_counts = df[column].value_counts()\n",
    "    print(f\"Value counts for column {column}:\")\n",
    "    print(value_counts)\n",
    "    print () #space for readability\n"
   ]
  },
  {
   "cell_type": "code",
   "execution_count": 36,
   "id": "f14c8f68",
   "metadata": {},
   "outputs": [
    {
     "data": {
      "text/plain": [
       "1    61\n",
       "2    36\n",
       "Name: Gender, dtype: int64"
      ]
     },
     "execution_count": 36,
     "metadata": {},
     "output_type": "execute_result"
    }
   ],
   "source": [
    "df['Gender'].value_counts()\n",
    "# No need to change anything"
   ]
  },
  {
   "cell_type": "code",
   "execution_count": 37,
   "id": "8afbca8b",
   "metadata": {},
   "outputs": [
    {
     "data": {
      "text/plain": [
       "1    87\n",
       "2    10\n",
       "Name: breakfast, dtype: int64"
      ]
     },
     "execution_count": 37,
     "metadata": {},
     "output_type": "execute_result"
    }
   ],
   "source": [
    "df['breakfast'].value_counts()\n",
    "# No need to change anything"
   ]
  },
  {
   "cell_type": "code",
   "execution_count": 38,
   "id": "ff77e46c",
   "metadata": {},
   "outputs": [
    {
     "data": {
      "text/plain": [
       "610    49\n",
       "720    22\n",
       "430    21\n",
       "265     5\n",
       "Name: calories_chicken, dtype: int64"
      ]
     },
     "execution_count": 38,
     "metadata": {},
     "output_type": "execute_result"
    }
   ],
   "source": [
    "df['calories_chicken'].value_counts()\n",
    "# No need to change anything"
   ]
  },
  {
   "cell_type": "code",
   "execution_count": 39,
   "id": "559283bc",
   "metadata": {},
   "outputs": [
    {
     "data": {
      "text/plain": [
       "3.000000    53\n",
       "4.000000    16\n",
       "3.028302    14\n",
       "2.000000    14\n",
       "Name: calories_day, dtype: int64"
      ]
     },
     "execution_count": 39,
     "metadata": {},
     "output_type": "execute_result"
    }
   ],
   "source": [
    "df['calories_day'].value_counts()"
   ]
  },
  {
   "cell_type": "code",
   "execution_count": 40,
   "id": "c2feedeb",
   "metadata": {},
   "outputs": [
    {
     "data": {
      "text/plain": [
       "420.000000    62\n",
       "315.000000    19\n",
       "980.000000    15\n",
       "505.241935     1\n",
       "Name: calories_scone, dtype: int64"
      ]
     },
     "execution_count": 40,
     "metadata": {},
     "output_type": "execute_result"
    }
   ],
   "source": [
    "df['calories_scone'].value_counts()"
   ]
  },
  {
   "cell_type": "code",
   "execution_count": 41,
   "id": "41cd383e",
   "metadata": {},
   "outputs": [
    {
     "data": {
      "text/plain": [
       "2    70\n",
       "1    27\n",
       "Name: coffee, dtype: int64"
      ]
     },
     "execution_count": 41,
     "metadata": {},
     "output_type": "execute_result"
    }
   ],
   "source": [
    "df['coffee'].value_counts()"
   ]
  },
  {
   "cell_type": "code",
   "execution_count": 42,
   "id": "1354365b",
   "metadata": {},
   "outputs": [
    {
     "data": {
      "text/plain": [
       "none                                                       1\n",
       "ice cream, cookies, ice cream                              1\n",
       "chips, ice cream, fruit snacks                             1\n",
       "carrots, plantain chips, almonds, popcorn                  1\n",
       "pizza, pasta, mac and cheese                               1\n",
       "                                                          ..\n",
       "chocolate, popcorn, ice cream                              1\n",
       "chocolate, chips, candy                                    1\n",
       "pizza, doughnuts, mcdonalds                                1\n",
       "mac n cheese, peanut butter and banana sandwich, omelet    1\n",
       "rice, potato, seaweed soup                                 1\n",
       "Name: comfort_food, Length: 97, dtype: int64"
      ]
     },
     "execution_count": 42,
     "metadata": {},
     "output_type": "execute_result"
    }
   ],
   "source": [
    "df['comfort_food'].value_counts()"
   ]
  },
  {
   "cell_type": "code",
   "execution_count": 43,
   "id": "38f67982",
   "metadata": {},
   "outputs": [
    {
     "data": {
      "text/plain": [
       "boredom                                              5\n",
       "Boredom                                              3\n",
       "boredom, sadness                                     2\n",
       "stress, boredom                                      2\n",
       "Stress and boredom                                   2\n",
       "                                                    ..\n",
       "All of the above; sadness, boredom and confusion     1\n",
       "Usually if I'm sad or depressed.                     1\n",
       "No reasons                                           1\n",
       "boredom, stress                                      1\n",
       "Loneliness / Homesick / Sadness                      1\n",
       "Name: comfort_food_reasons, Length: 85, dtype: int64"
      ]
     },
     "execution_count": 43,
     "metadata": {},
     "output_type": "execute_result"
    }
   ],
   "source": [
    "df['comfort_food_reasons'].value_counts()"
   ]
  },
  {
   "cell_type": "code",
   "execution_count": 44,
   "id": "c4559503",
   "metadata": {},
   "outputs": [
    {
     "data": {
      "text/plain": [
       "2.000000    36\n",
       "1.000000    19\n",
       "3.000000    15\n",
       "2.698113    15\n",
       "9.000000     3\n",
       "5.000000     3\n",
       "4.000000     2\n",
       "7.000000     2\n",
       "6.000000     1\n",
       "8.000000     1\n",
       "Name: comfort_food_reasons_coded, dtype: int64"
      ]
     },
     "execution_count": 44,
     "metadata": {},
     "output_type": "execute_result"
    }
   ],
   "source": [
    "df['comfort_food_reasons_coded'].value_counts()"
   ]
  },
  {
   "cell_type": "code",
   "execution_count": 45,
   "id": "62af2d82",
   "metadata": {},
   "outputs": [
    {
     "data": {
      "text/plain": [
       "3.000000    40\n",
       "2.000000    27\n",
       "4.000000    12\n",
       "1.000000    11\n",
       "5.000000     6\n",
       "2.786885     1\n",
       "Name: cook, dtype: int64"
      ]
     },
     "execution_count": 45,
     "metadata": {},
     "output_type": "execute_result"
    }
   ],
   "source": [
    "df['cook'].value_counts()"
   ]
  },
  {
   "cell_type": "code",
   "execution_count": 46,
   "id": "80225eb3",
   "metadata": {},
   "outputs": [
    {
     "data": {
      "text/plain": [
       "1.000000    69\n",
       "1.388889    12\n",
       "2.000000     9\n",
       "3.000000     2\n",
       "6.000000     2\n",
       "4.000000     2\n",
       "5.000000     1\n",
       "Name: cuisine, dtype: int64"
      ]
     },
     "execution_count": 46,
     "metadata": {},
     "output_type": "execute_result"
    }
   ],
   "source": [
    "df['cuisine'].value_counts()"
   ]
  },
  {
   "cell_type": "code",
   "execution_count": 47,
   "id": "e880378a",
   "metadata": {},
   "outputs": [
    {
     "data": {
      "text/plain": [
       "eat good and exercise                                                                                                               1\n",
       "I try to eat as healthy as possible. 3 meals a day that are well-balanced.                                                          1\n",
       "I used to eat whatever but since i've come to college i try to eat fruits and vegetables everyday. I also avoid fried foods.        1\n",
       "i currently eat a lot of salad, but do not eat 3 times a day nor eat breakfast                                                      1\n",
       "I try to eat healthy but sometimes drink soda pop and I enjoy desserts. harder to eat healthy when I am at school.                  1\n",
       "                                                                                                                                   ..\n",
       "I eat three meals per day usually. I eat a lot of sandwiches and fruit.                                                             1\n",
       "I do not get to eat as well as I did.  I wish I ate better, but in college it is hard because of money.                             1\n",
       "I eat out more often then not. I try to make sure when I eat out it isn't fast food, but instead something healthy like Panera.     1\n",
       "A lot of rice and veggies, eggs for breakfast, chicken is usually the only kind of meat I eat.                                      1\n",
       "Rice, oatmeal, and tea                                                                                                              1\n",
       "Name: diet_current, Length: 97, dtype: int64"
      ]
     },
     "execution_count": 47,
     "metadata": {},
     "output_type": "execute_result"
    }
   ],
   "source": [
    "df['diet_current'].value_counts()"
   ]
  },
  {
   "cell_type": "code",
   "execution_count": 48,
   "id": "94c85f96",
   "metadata": {},
   "outputs": [
    {
     "data": {
      "text/plain": [
       "2    46\n",
       "1    39\n",
       "3    10\n",
       "4     2\n",
       "Name: diet_current_coded, dtype: int64"
      ]
     },
     "execution_count": 48,
     "metadata": {},
     "output_type": "execute_result"
    }
   ],
   "source": [
    "df['diet_current_coded'].value_counts()"
   ]
  },
  {
   "cell_type": "code",
   "execution_count": 49,
   "id": "e283a18c",
   "metadata": {},
   "outputs": [
    {
     "data": {
      "text/plain": [
       "2.000000    51\n",
       "1.000000    45\n",
       "1.560976     1\n",
       "Name: drink, dtype: int64"
      ]
     },
     "execution_count": 49,
     "metadata": {},
     "output_type": "execute_result"
    }
   ],
   "source": [
    "df['drink'].value_counts()"
   ]
  },
  {
   "cell_type": "code",
   "execution_count": 50,
   "id": "c91be531",
   "metadata": {},
   "outputs": [
    {
     "data": {
      "text/plain": [
       "eat faster                                                                                                         1\n",
       "As an athlete it is important to fuel my body with important foods only.                                           1\n",
       "i eat healthier all around                                                                                         1\n",
       "I have been eating healthier especially vegetables and proteinous food                                             1\n",
       "less healthy because of less options, money and time.                                                              1\n",
       "                                                                                                                  ..\n",
       "I have eaten bigger meals.                                                                                         1\n",
       "I do not eat as many home cooked meals.                                                                            1\n",
       "I do not snack as often at school. I find that I'm always busy so sometimes I don't have a lot of time to eat.     1\n",
       "My diet is more limited just because of what I have time to make                                                   1\n",
       "less rice                                                                                                          1\n",
       "Name: eating_changes, Length: 97, dtype: int64"
      ]
     },
     "execution_count": 50,
     "metadata": {},
     "output_type": "execute_result"
    }
   ],
   "source": [
    "df['eating_changes'].value_counts()"
   ]
  },
  {
   "cell_type": "code",
   "execution_count": 51,
   "id": "fd66e408",
   "metadata": {},
   "outputs": [
    {
     "data": {
      "text/plain": [
       "1    61\n",
       "2    26\n",
       "3     7\n",
       "4     3\n",
       "Name: eating_changes_coded, dtype: int64"
      ]
     },
     "execution_count": 51,
     "metadata": {},
     "output_type": "execute_result"
    }
   ],
   "source": [
    "df['eating_changes_coded'].value_counts()"
   ]
  },
  {
   "cell_type": "code",
   "execution_count": 52,
   "id": "6c7b24d4",
   "metadata": {},
   "outputs": [
    {
     "data": {
      "text/plain": [
       "3     35\n",
       "5     23\n",
       "2     13\n",
       "4      8\n",
       "8      4\n",
       "11     4\n",
       "10     3\n",
       "7      2\n",
       "1      1\n",
       "6      1\n",
       "9      1\n",
       "13     1\n",
       "12     1\n",
       "Name: eating_changes_coded1, dtype: int64"
      ]
     },
     "execution_count": 52,
     "metadata": {},
     "output_type": "execute_result"
    }
   ],
   "source": [
    "df['eating_changes_coded1'].value_counts()"
   ]
  },
  {
   "cell_type": "code",
   "execution_count": 53,
   "id": "7f5eeb1f",
   "metadata": {},
   "outputs": [
    {
     "data": {
      "text/plain": [
       "2    49\n",
       "3    19\n",
       "1    11\n",
       "5    10\n",
       "4     8\n",
       "Name: eating_out, dtype: int64"
      ]
     },
     "execution_count": 53,
     "metadata": {},
     "output_type": "execute_result"
    }
   ],
   "source": [
    "df['eating_out'].value_counts()"
   ]
  },
  {
   "cell_type": "code",
   "execution_count": 54,
   "id": "f7d3e69f",
   "metadata": {},
   "outputs": [
    {
     "data": {
      "text/plain": [
       "2.000000    44\n",
       "3.000000    43\n",
       "2.448276     8\n",
       "1.000000     2\n",
       "Name: employment, dtype: int64"
      ]
     },
     "execution_count": 54,
     "metadata": {},
     "output_type": "execute_result"
    }
   ],
   "source": [
    "df['employment'].value_counts()"
   ]
  },
  {
   "cell_type": "code",
   "execution_count": 55,
   "id": "17af7f3b",
   "metadata": {},
   "outputs": [
    {
     "data": {
      "text/plain": [
       "5    33\n",
       "4    29\n",
       "3    18\n",
       "2    13\n",
       "1     4\n",
       "Name: ethnic_food, dtype: int64"
      ]
     },
     "execution_count": 55,
     "metadata": {},
     "output_type": "execute_result"
    }
   ],
   "source": [
    "df['ethnic_food'].value_counts()"
   ]
  },
  {
   "cell_type": "code",
   "execution_count": 56,
   "id": "03030ef6",
   "metadata": {},
   "outputs": [
    {
     "data": {
      "text/plain": [
       "1.000000    47\n",
       "2.000000    34\n",
       "1.589286     9\n",
       "3.000000     7\n",
       "Name: exercise, dtype: int64"
      ]
     },
     "execution_count": 56,
     "metadata": {},
     "output_type": "execute_result"
    }
   ],
   "source": [
    "df['exercise'].value_counts()"
   ]
  },
  {
   "cell_type": "code",
   "execution_count": 57,
   "id": "a2a4642f",
   "metadata": {},
   "outputs": [
    {
     "data": {
      "text/plain": [
       "4.0    38\n",
       "2.0    26\n",
       "5.0    21\n",
       "3.0    10\n",
       "1.0     2\n",
       "Name: father_education, dtype: int64"
      ]
     },
     "execution_count": 57,
     "metadata": {},
     "output_type": "execute_result"
    }
   ],
   "source": [
    "df['father_education'].value_counts()"
   ]
  },
  {
   "cell_type": "code",
   "execution_count": 58,
   "id": "5c550b9b",
   "metadata": {},
   "outputs": [
    {
     "data": {
      "text/plain": [
       "Dentist                         2\n",
       "IT                              2\n",
       "business owner                  2\n",
       "Teacher                         2\n",
       "Dentist                         1\n",
       "                               ..\n",
       "Corporate Manager               1\n",
       "Biohemical Waste Elimination    1\n",
       "Construction                    1\n",
       "Optometrist                     1\n",
       "CEO of company                  1\n",
       "Name: father_profession, Length: 93, dtype: int64"
      ]
     },
     "execution_count": 58,
     "metadata": {},
     "output_type": "execute_result"
    }
   ],
   "source": [
    "df['father_profession'].value_counts()"
   ]
  },
  {
   "cell_type": "code",
   "execution_count": 59,
   "id": "1c931755",
   "metadata": {},
   "outputs": [
    {
     "data": {
      "text/plain": [
       "Italian                                     16\n",
       "Italian                                     14\n",
       "italian                                      6\n",
       "Mexican                                      4\n",
       "American                                     3\n",
       "Chinese                                      3\n",
       "Mexican                                      2\n",
       "American                                     2\n",
       "Chinese                                      2\n",
       "italian                                      2\n",
       "Indian                                       2\n",
       "Asian                                        2\n",
       "Korean                                       2\n",
       "Thai                                         2\n",
       "Indian food                                  1\n",
       "Authentic Chinese and Vietnamese food        1\n",
       "Any type of Colombian cuisine                1\n",
       "Mexican cuisine                              1\n",
       "Asian                                        1\n",
       "Chinese food                                 1\n",
       "Vietnamese cuisine                           1\n",
       "mac and cheese                               1\n",
       "italian and chinese                          1\n",
       "Nepali                                       1\n",
       "I do not like cuisine                        1\n",
       "Barbecue                                     1\n",
       "lebanese or greek                            1\n",
       "Japanese                                     1\n",
       "I really love italian food and thai food     1\n",
       "Arabic cuisine                               1\n",
       "Thai food                                    1\n",
       "american                                     1\n",
       "Chinese cuisine (General Tso's)              1\n",
       "African                                      1\n",
       "Anything american style.                     1\n",
       "Seafood                                      1\n",
       "Orange chicken and chow mani noodles         1\n",
       "American or Italian                          1\n",
       "Chicken                                      1\n",
       "don't have one                               1\n",
       "Italian food                                 1\n",
       "French                                       1\n",
       "American or Italian                          1\n",
       "Italian or Chinese                           1\n",
       "chinese                                      1\n",
       "Greek                                        1\n",
       "All                                          1\n",
       "Wraps                                        1\n",
       "Mexican Food                                 1\n",
       "Name: fav_cuisine, dtype: int64"
      ]
     },
     "execution_count": 59,
     "metadata": {},
     "output_type": "execute_result"
    }
   ],
   "source": [
    "df['fav_cuisine'].value_counts()"
   ]
  },
  {
   "cell_type": "code",
   "execution_count": 60,
   "id": "8498bda8",
   "metadata": {},
   "outputs": [
    {
     "data": {
      "text/plain": [
       "1    46\n",
       "4    21\n",
       "5    13\n",
       "2     9\n",
       "8     3\n",
       "0     3\n",
       "3     1\n",
       "6     1\n",
       "Name: fav_cuisine_coded, dtype: int64"
      ]
     },
     "execution_count": 60,
     "metadata": {},
     "output_type": "execute_result"
    }
   ],
   "source": [
    "df['fav_cuisine_coded'].value_counts()"
   ]
  },
  {
   "cell_type": "code",
   "execution_count": 61,
   "id": "80e8e28f",
   "metadata": {},
   "outputs": [
    {
     "data": {
      "text/plain": [
       "1.000000    59\n",
       "3.000000    31\n",
       "2.000000     6\n",
       "1.715447     1\n",
       "Name: fav_food, dtype: int64"
      ]
     },
     "execution_count": 61,
     "metadata": {},
     "output_type": "execute_result"
    }
   ],
   "source": [
    "df['fav_food'].value_counts()"
   ]
  },
  {
   "cell_type": "code",
   "execution_count": 62,
   "id": "d53761c2",
   "metadata": {},
   "outputs": [
    {
     "data": {
      "text/plain": [
       "Pizza                                       2\n",
       "Steak                                       2\n",
       "Mac and cheese                              2\n",
       "Spaghetti                                   2\n",
       "Chicken                                     2\n",
       "                                           ..\n",
       "Mac and Cheese, Hot Dogs, Grilled Cheese    1\n",
       "pickles, chinese food, pizza                1\n",
       "pizza, ice cream. pop tarts                 1\n",
       "Chicken and steak                           1\n",
       "Rice and potato                             1\n",
       "Name: food_childhood, Length: 91, dtype: int64"
      ]
     },
     "execution_count": 62,
     "metadata": {},
     "output_type": "execute_result"
    }
   ],
   "source": [
    "df['food_childhood'].value_counts()"
   ]
  },
  {
   "cell_type": "code",
   "execution_count": 63,
   "id": "ec2c55e1",
   "metadata": {},
   "outputs": [
    {
     "data": {
      "text/plain": [
       "1    88\n",
       "2     9\n",
       "Name: fries, dtype: int64"
      ]
     },
     "execution_count": 63,
     "metadata": {},
     "output_type": "execute_result"
    }
   ],
   "source": [
    "df['fries'].value_counts()"
   ]
  },
  {
   "cell_type": "code",
   "execution_count": 64,
   "id": "9d9279ce",
   "metadata": {},
   "outputs": [
    {
     "data": {
      "text/plain": [
       "5    52\n",
       "4    25\n",
       "3    15\n",
       "2     4\n",
       "1     1\n",
       "Name: fruit_day, dtype: int64"
      ]
     },
     "execution_count": 64,
     "metadata": {},
     "output_type": "execute_result"
    }
   ],
   "source": [
    "df['fruit_day'].value_counts()"
   ]
  },
  {
   "cell_type": "code",
   "execution_count": 65,
   "id": "068638ec",
   "metadata": {},
   "outputs": [
    {
     "data": {
      "text/plain": [
       "1    28\n",
       "2    27\n",
       "4    22\n",
       "3    20\n",
       "Name: grade_level, dtype: int64"
      ]
     },
     "execution_count": 65,
     "metadata": {},
     "output_type": "execute_result"
    }
   ],
   "source": [
    "df['grade_level'].value_counts()"
   ]
  },
  {
   "cell_type": "code",
   "execution_count": 66,
   "id": "6e4c5f93",
   "metadata": {},
   "outputs": [
    {
     "data": {
      "text/plain": [
       "5    32\n",
       "3    26\n",
       "4    20\n",
       "1    11\n",
       "2     8\n",
       "Name: greek_food, dtype: int64"
      ]
     },
     "execution_count": 66,
     "metadata": {},
     "output_type": "execute_result"
    }
   ],
   "source": [
    "df['greek_food'].value_counts()"
   ]
  },
  {
   "cell_type": "code",
   "execution_count": 67,
   "id": "c0f99780",
   "metadata": {},
   "outputs": [
    {
     "data": {
      "text/plain": [
       "8     14\n",
       "5     13\n",
       "3     12\n",
       "2     11\n",
       "4     11\n",
       "7     10\n",
       "9      9\n",
       "6      8\n",
       "1      5\n",
       "10     4\n",
       "Name: healthy_feeling, dtype: int64"
      ]
     },
     "execution_count": 67,
     "metadata": {},
     "output_type": "execute_result"
    }
   ],
   "source": [
    "df['healthy_feeling'].value_counts()"
   ]
  },
  {
   "cell_type": "code",
   "execution_count": 68,
   "id": "a3889128",
   "metadata": {},
   "outputs": [
    {
     "data": {
      "text/plain": [
       "looks not oily                                                                                   1\n",
       "high protein, low fat, low carbs and sugar                                                       1\n",
       "half a plate of protein, quarter of a plate of carbs and the other quarter fruits or veggies.    1\n",
       "Healthy meal for me is a food rich in protein, fiber, some sort of carbohydrates                 1\n",
       "lots of variety and veggies                                                                      1\n",
       "                                                                                                ..\n",
       "a lean protein plus the addition of 2-3 fruits and vegetables                                    1\n",
       "A protein, starch, veg, and a healthier dessert.                                                 1\n",
       "a meal with a meat, vegetable, grain, and fruit                                                  1\n",
       "Some kind of protein, a vegetable, and a grain                                                   1\n",
       "lots of vegetables                                                                               1\n",
       "Name: healthy_meal, Length: 97, dtype: int64"
      ]
     },
     "execution_count": 68,
     "metadata": {},
     "output_type": "execute_result"
    }
   ],
   "source": [
    "df['healthy_meal'].value_counts()"
   ]
  },
  {
   "cell_type": "code",
   "execution_count": 69,
   "id": "b1091608",
   "metadata": {},
   "outputs": [
    {
     "data": {
      "text/plain": [
       "being healthy                                                                                                                 1\n",
       "High protein, low fat                                                                                                         1\n",
       "My ideal diet would be no processed food or fried food. Also, very low in excess carbs and high in protein.                   1\n",
       "it would be a vegetarian diet without any red meat                                                                            1\n",
       "Eating healthy with lots of water and natural foods.                                                                          1\n",
       "                                                                                                                             ..\n",
       "My ideal diet would be eating multiple fruits and vegetables at each meal. Also I would only eat lean protein if possible.    1\n",
       "I would like to get all of the food groups in each day.                                                                       1\n",
       "I wish I had the time and energy to cook more at home on my own.                                                              1\n",
       "Pretty much what I eat now                                                                                                    1\n",
       "lots of veggies                                                                                                               1\n",
       "Name: ideal_diet, Length: 97, dtype: int64"
      ]
     },
     "execution_count": 69,
     "metadata": {},
     "output_type": "execute_result"
    }
   ],
   "source": [
    "df['ideal_diet'].value_counts()"
   ]
  },
  {
   "cell_type": "code",
   "execution_count": 70,
   "id": "a8f006ad",
   "metadata": {},
   "outputs": [
    {
     "data": {
      "text/plain": [
       "2    32\n",
       "5    15\n",
       "3    12\n",
       "7    12\n",
       "6    10\n",
       "1    10\n",
       "4     4\n",
       "8     2\n",
       "Name: ideal_diet_coded, dtype: int64"
      ]
     },
     "execution_count": 70,
     "metadata": {},
     "output_type": "execute_result"
    }
   ],
   "source": [
    "df['ideal_diet_coded'].value_counts()"
   ]
  },
  {
   "cell_type": "code",
   "execution_count": 71,
   "id": "0a378e43",
   "metadata": {},
   "outputs": [
    {
     "data": {
      "text/plain": [
       "6.0    37\n",
       "5.0    22\n",
       "4.0    15\n",
       "3.0    13\n",
       "2.0     6\n",
       "1.0     4\n",
       "Name: income, dtype: int64"
      ]
     },
     "execution_count": 71,
     "metadata": {},
     "output_type": "execute_result"
    }
   ],
   "source": [
    "df['income'].value_counts()"
   ]
  },
  {
   "cell_type": "code",
   "execution_count": 72,
   "id": "c2fb0854",
   "metadata": {},
   "outputs": [
    {
     "data": {
      "text/plain": [
       "5    29\n",
       "3    25\n",
       "1    18\n",
       "2    13\n",
       "4    12\n",
       "Name: indian_food, dtype: int64"
      ]
     },
     "execution_count": 72,
     "metadata": {},
     "output_type": "execute_result"
    }
   ],
   "source": [
    "df['indian_food'].value_counts()"
   ]
  },
  {
   "cell_type": "code",
   "execution_count": null,
   "id": "8c9c09f8",
   "metadata": {},
   "outputs": [],
   "source": [
    "df.to_csv('foodsurvey_cleaned.csv', index=False)"
   ]
  }
 ],
 "metadata": {
  "kernelspec": {
   "display_name": "Python 3 (ipykernel)",
   "language": "python",
   "name": "python3"
  },
  "language_info": {
   "codemirror_mode": {
    "name": "ipython",
    "version": 3
   },
   "file_extension": ".py",
   "mimetype": "text/x-python",
   "name": "python",
   "nbconvert_exporter": "python",
   "pygments_lexer": "ipython3",
   "version": "3.9.13"
  }
 },
 "nbformat": 4,
 "nbformat_minor": 5
}
